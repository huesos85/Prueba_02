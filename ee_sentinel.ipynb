{
  "nbformat": 4,
  "nbformat_minor": 0,
  "metadata": {
    "colab": {
      "name": "ee_sentinel.ipynb",
      "provenance": [],
      "collapsed_sections": [],
      "authorship_tag": "ABX9TyOUrmWMvmV40b/d/Tm62FZN",
      "include_colab_link": true
    },
    "kernelspec": {
      "name": "python3",
      "display_name": "Python 3"
    }
  },
  "cells": [
    {
      "cell_type": "markdown",
      "metadata": {
        "id": "view-in-github",
        "colab_type": "text"
      },
      "source": [
        "<a href=\"https://colab.research.google.com/github/huesos85/Prueba_02/blob/master/ee_sentinel.ipynb\" target=\"_parent\"><img src=\"https://colab.research.google.com/assets/colab-badge.svg\" alt=\"Open In Colab\"/></a>"
      ]
    },
    {
      "cell_type": "code",
      "metadata": {
        "id": "a3Rk3AXqfTeV",
        "colab_type": "code",
        "colab": {}
      },
      "source": [
        "import ee"
      ],
      "execution_count": 0,
      "outputs": []
    },
    {
      "cell_type": "code",
      "metadata": {
        "id": "E_VP_nBCfXbF",
        "colab_type": "code",
        "outputId": "b0bbcbb5-7560-4eec-f2bd-bd1c847261a7",
        "colab": {
          "base_uri": "https://localhost:8080/",
          "height": 187
        }
      },
      "source": [
        "ee.Authenticate()"
      ],
      "execution_count": 3,
      "outputs": [
        {
          "output_type": "stream",
          "text": [
            "To authorize access needed by Earth Engine, open the following URL in a web browser and follow the instructions. If the web browser does not start automatically, please manually browse the URL below.\n",
            "\n",
            "    https://accounts.google.com/o/oauth2/auth?client_id=517222506229-vsmmajv00ul0bs7p89v5m89qs8eb9359.apps.googleusercontent.com&scope=https%3A%2F%2Fwww.googleapis.com%2Fauth%2Fearthengine+https%3A%2F%2Fwww.googleapis.com%2Fauth%2Fdevstorage.full_control&redirect_uri=urn%3Aietf%3Awg%3Aoauth%3A2.0%3Aoob&response_type=code&code_challenge=hLicHp17ueAxACtKUsKyX0tB5P-UqngcRzDm9apJps8&code_challenge_method=S256\n",
            "\n",
            "The authorization workflow will generate a code, which you should paste in the box below. \n",
            "Enter verification code: 4/yQGkFK7gBddhBfmJa8kzK2tQ1qIYNGDm4kjl24obSdshDTAHB3oieUQ\n",
            "\n",
            "Successfully saved authorization token.\n"
          ],
          "name": "stdout"
        }
      ]
    },
    {
      "cell_type": "code",
      "metadata": {
        "colab_type": "code",
        "id": "rk7uqnc2qRZO",
        "colab": {}
      },
      "source": [
        "import ee.mapclient\n",
        "import datetime\n",
        "\n",
        "ee.Initialize()\n",
        "\n",
        "imag = (ee.ImageCollection('COPERNICUS/S2_SR')\n",
        "                  .filterDate(datetime.datetime(2020,2,1),\n",
        "                              datetime.datetime(2020,4,1)))\n",
        "\n",
        "\n",
        "vis = {\n",
        "    'min': -500,\n",
        "    'max': 5000,\n",
        "    }\n",
        "\n",
        "ee.mapclient.centerMap(-60.58, -32.96, 14)\n",
        "ee.mapclient.addToMap(imag,vis,'hola mundo')\n"
      ],
      "execution_count": 0,
      "outputs": []
    }
  ]
}